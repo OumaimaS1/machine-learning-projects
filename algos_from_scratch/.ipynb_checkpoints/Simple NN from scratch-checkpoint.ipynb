{
 "cells": [
  {
   "cell_type": "code",
   "execution_count": 61,
   "metadata": {},
   "outputs": [],
   "source": [
    "import numpy as np\n",
    "import pandas as pd\n",
    "import matplotlib.pyplot as plt"
   ]
  },
  {
   "cell_type": "markdown",
   "metadata": {},
   "source": [
    "### Define the simple NN class"
   ]
  },
  {
   "cell_type": "markdown",
   "metadata": {},
   "source": [
    "Let's consider the following activation function : $\\phi(x) = \\frac{1}{1+e^{-x}}$ and define a simple NN with an input, a hidden and an output layer."
   ]
  },
  {
   "cell_type": "code",
   "execution_count": 56,
   "metadata": {},
   "outputs": [],
   "source": [
    "sigmoid = lambda x: 1/(1+np.exp(-x))\n",
    "sigmoid_derv = lambda x: sigmoid(x)*(1-sigmoid(x))\n",
    "\n",
    "class SimpleNN:\n",
    "    def __init__(self, x_train, y, h1, bias=False):\n",
    "        self.input = x_train\n",
    "        self.w1 = np.random.rand(self.input.shape[1], h1)\n",
    "        self.w2 = np.random.rand(h1, 1)\n",
    "        self.y = y\n",
    "        self.output = np.zeros(self.y.shape)\n",
    "        self.bias = bias\n",
    "        if bias:\n",
    "            self.b = np.random.rand(self.input.shape[0], h1)\n",
    "        \n",
    "    def feedforward(self):\n",
    "        self.z1 = np.dot(self.input, self.w1)\n",
    "        if self.bias:\n",
    "            self.z1 += self.b\n",
    "        self.hidden = sigmoid(self.z1)\n",
    "        self.z2 = np.dot(self.hidden, self.w2)\n",
    "        self.output = sigmoid(self.z2)\n",
    "        return self\n",
    "        \n",
    "    def compute_error(self):\n",
    "        self.mse = np.linalg.norm(self.y - self.output)/self.input.shape[0]\n",
    "        return self\n",
    "    \n",
    "    def backpropagation(self, gamma):\n",
    "        self.lr = gamma\n",
    "        self.delta2 = -2*np.multiply(self.y - self.output, sigmoid_derv(self.z2))\n",
    "        self.delta1 = np.multiply(np.dot(self.w2, self.delta2.T), sigmoid_derv(self.z1).T)\n",
    "        if self.bias:\n",
    "            self.b -= self.lr * self.delta1\n",
    "        self.w1 -= self.lr * np.dot(self.input.T, self.delta1.T)\n",
    "        self.w2 -= self.lr * np.dot(self.hidden.T, self.delta2)\n",
    "        return self"
   ]
  },
  {
   "cell_type": "markdown",
   "metadata": {},
   "source": [
    "### Test the NN model on a simple"
   ]
  },
  {
   "cell_type": "code",
   "execution_count": 90,
   "metadata": {},
   "outputs": [],
   "source": [
    "X = np.linspace(0,2,1000)\n",
    "X.shape = (1000,1)"
   ]
  },
  {
   "cell_type": "code",
   "execution_count": 91,
   "metadata": {},
   "outputs": [],
   "source": [
    "y = np.exp(-0.3*X)\n",
    "y.shape = (1000,1)"
   ]
  },
  {
   "cell_type": "code",
   "execution_count": 92,
   "metadata": {},
   "outputs": [
    {
     "name": "stdout",
     "output_type": "stream",
     "text": [
      "0.008610135592742521\n",
      "0.008824866632088502\n",
      "0.0018914443932115349\n",
      "0.0005180085492351285\n",
      "0.00046576581899334437\n",
      "0.00042877032187457206\n",
      "0.0004004321484448056\n",
      "0.00037938229859652716\n",
      "0.0003640304222532946\n",
      "0.00035291744886148575\n"
     ]
    }
   ],
   "source": [
    "n_epochs = 1000\n",
    "model = SimpleNN(X, y, 20)\n",
    "for i in range(n_epochs):\n",
    "    model.feedforward()\n",
    "    model.compute_error()\n",
    "    if i%100==0:\n",
    "        print(model.mse)\n",
    "    model.backpropagation(0.01)"
   ]
  },
  {
   "cell_type": "code",
   "execution_count": 93,
   "metadata": {},
   "outputs": [
    {
     "data": {
      "image/png": "[encoded data removed]",
      "text/plain": [
       "<matplotlib.figure.Figure at 0x7f3a4189be10>"
      ]
     },
     "metadata": {},
     "output_type": "display_data"
    }
   ],
   "source": [
    "plt.plot(model.y, 'r')\n",
    "plt.plot(model.output, 'k*')\n",
    "plt.show()"
   ]
  }
 ],
 "metadata": {
  "kernelspec": {
   "display_name": "Python 3",
   "language": "python",
   "name": "python3"
  },
  "language_info": {
   "codemirror_mode": {
    "name": "ipython",
    "version": 3
   },
   "file_extension": ".py",
   "mimetype": "text/x-python",
   "name": "python",
   "nbconvert_exporter": "python",
   "pygments_lexer": "ipython3",
   "version": "3.6.4"
  }
 },
 "nbformat": 4,
 "nbformat_minor": 2
}
